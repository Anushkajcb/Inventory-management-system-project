{
  "nbformat": 4,
  "nbformat_minor": 0,
  "metadata": {
    "colab": {
      "name": "Inventory-management-system.ipynb",
      "provenance": []
    },
    "kernelspec": {
      "name": "python3",
      "display_name": "Python 3"
    },
    "language_info": {
      "name": "python"
    }
  },
  "cells": [
    {
      "cell_type": "code",
      "metadata": {
        "id": "fXinTDeQ3kBm"
      },
      "source": [
        ""
      ],
      "execution_count": null,
      "outputs": []
    },
    {
      "cell_type": "markdown",
      "metadata": {
        "id": "nLzv7LGj6vGL"
      },
      "source": [
        ""
      ]
    },
    {
      "cell_type": "code",
      "metadata": {
        "id": "elBhuaHT6vvi"
      },
      "source": [
        "fd = open(\"Products.json\", mode = 'w', encoding = 'utf-8')\n",
        "\n",
        "#Import  \n",
        "import json\n",
        "products = {\n",
        "  1000 : {\"name\" : \"CRACKING the CODING INTERVIEW\", \"price\" : 599, \"discount\" : 5, \"weight\" : 400, \"category\" : \"Book\", \"quantity\" : 100, \"location\" : \"India\", \"status\" : \"active\"},\n",
        "  1001 : {\"name\" : \"Crack the SERIES GATE\", \"price\" : 700, \"discount\" : 10, \"weight\" : 500, \"category\" : \"Book\", \"quantity\" : 50, \"location\" : \"India\", \"status\" : \"active\"},\n",
        "  1002 : {\"name\" : \"Paracitamol\", \"price\" : 4, \"discount\" : 50, \"weight\" : 5, \"category\" : \"Medicine\", \"quantity\" : 200, \"location\" : \"India\", \"status\" : \"active\"},\n",
        "  1003 : {\"name\" : \"Nea N95 5 Layer Reusable & Washable mask\", \"price\" : 1099, \"discount\" : 86, \"weight\" : 5, \"category\" : \"Respirator\", \"quantity\" : 1000, \"location\" : \"India\", \"status\" : \"active\"},\n",
        "  1004 : {\"name\" : \"Back cover for smartphone\", \"price\" : 699, \"discount\" : 72, \"weight\" : 10, \"category\" : \"Back cover\", \"quantity\" : 99, \"location\" : \"India\", \"status\" : \"active\"},\n",
        "  1005 : {\"name\" : \"Kenstar KKB10C3P-DBH Electric Kettle\", \"price\" : 1270, \"discount\" : 32, \"weight\" : 1000, \"category\" : \"Electric Kettle\", \"quantity\" : 299, \"location\" : \"India\", \"status\" : \"active\"},\n",
        "  1006 : {\"name\" : \"Oppo Echno M31\", \"price\" : 2000, \"discount\" : 10, \"weight\" : 50, \"category\" : \"Earphone\", \"quantity\" : 100, \"location\" : \"India\", \"status\" : \"active\"},\n",
        "  1007 : {\"name\" : \"OnePlus Bullets Wireless Z Bass Edition\", \"price\" : 2190, \"discount\" : 8, \"weight\" : 70, \"category\" : \"Earphone\", \"quantity\" : 200, \"location\" : \"India\", \"status\" : \"active\"},\n",
        "  1008 : {\"name\" : \"Lakeme Face Wash\", \"price\" : 225, \"discount\" : 10, \"weight\" : 100, \"category\" : \"Beauty\", \"quantity\" : 50, \"location\" : \"India\", \"status\" : \"active\"},\n",
        "  1009 : {\"name\" : \"Building Materials\", \"price\" : 686, \"discount\" : 52, \"weight\" : 250, \"category\" : \"Book\", \"quantity\" : 20, \"location\" : \"India\", \"status\" : \"active\"},\n",
        "  1010 : {\"name\" : \"Mi 1000 mAh Power Bank\", \"price\" : 1199,  \"discount\" : 25, \"weight\" : 240, \"category\" : \"Electronics\", \"quantity\" : 500, \"location\" : \"India\", \"status\" : \"active\"},\n",
        "  1011 : {\"name\" : \"Mi 3i 2000 mAh Power Bank\", \"price\" : 2199,  \"discount\" : 22, \"weight\" : 434, \"category\" : \"Electronics\", \"quantity\" : 1000, \"location\" : \"India\", \"status\" : \"active\"},\n",
        "  1012 : {\"name\" : \"HP USB 3.0 Utility V232 64 GB Pen Drive\", \"price\" : 926, \"discount\" : 35, \"weight\" : 10, \"category\" : \"Electronics\", \"quantity\" : 99, \"location\" : \"India\", \"status\" : \"active\"},\n",
        "  1013 : {\"name\" : \"Logitech K230 Wireless Laptop Keyboard\", \"price\" : 1095, \"discount\" : 18, \"weight\" : 480, \"category\" : \"Laptop Keyboard\", \"quantity\" : 149, \"location\" : \"India\", \"status\" : \"active\"},\n",
        "  1014 : {\"name\" : \"HP X3500 Wireless Comfort Mouse\", \"price\" : 877, \"discount\" : 20, \"weight\" : 95, \"category\" : \"Computer Mouse\", \"quantity\" : 5, \"location\" : \"India\", \"status\" : \"active\"},\n",
        "  1015 : {\"name\" : \"PHILIPS QT4011 Mulicolor Trimmer\", \"price\" : 2375, \"discount\" : 32, \"weight\" : 340, \"category\" : \"Corded & Cordless\", \"quantity\" : 9, \"location\" : \"India\", \"status\" : \"active\"},\n",
        "  1016 : {\"name\" : \"acer Aspire Ryzen 5 Hexa Core (8 GB/512 GB SSD/Windows 10/4GB Graphics)\", \"price\" : 89000, \"discount\" : 35, \"weight\" : 2100, \"category\" : \"Gaming Laptop\", \"quantity\" : 20, \"location\" : \"India\", \"status\" : \"active\"},\n",
        "  1017 : {\"name\" : \"SONY SRS-XB13 latest Bluetooth Speaker(Blue, Mono Chanel)\", \"price\" : 4990, \"discount\" : 20, \"weight\" : 100, \"category\" : \"Speaker\", \"quantity\" : 20, \"location\" : \"India\", \"status\" : \"active\"},\n",
        "  1018 : {\"name\" : \"SAMSUNG Galaxy M31(6 GB/64 GB)\", \"price\" : 17500, \"discount\" : 8, \"weight\" : 191, \"category\" : \"Mobile\", \"quantity\" : 55, \"location\" : \"India\", \"status\" : \"active\"},\n",
        "  1019 : {\"name\" : \"POCO M2 Pro(6 GB/128 GB)\", \"price\" : 1999, \"discount\" : 20, \"weight\" : 209, \"category\" : \"Mobile\", \"quantity\" : 13, \"location\" : \"India\", \"status\" : \"active\"},\n",
        "  1020 : {\"name\" : \"Realme Narzo 30 Pro 5 GB(6 GB/64 GB)\", \"price\" : 18999, \"discount\" : 15, \"weight\" : 194, \"category\" : \"Mobile\", \"quantity\" : 2, \"location\" : \"India\", \"status\" : \"active\"},\n",
        "  1021 : {\"name\" : \"APPLE iPhone 12 Pro Max\", \"price\" : 129900, \"discount\" : 3, \"weight\" : 5, \"category\" : \"Mobile\", \"quantity\" : 5, \"location\" : \"India\", \"status\" : \"active\"},\n",
        "  1022 : {\"name\" : \"APPLE MacBook Pro M1(8 GB/256 GB SSD/Mac OS Big Sur)\", \"price\" : 122900, \"discount\" : 8, \"weight\" : 1400, \"category\" : \"Laptops\", \"quantity\" : 7, \"location\" : \"India\", \"status\" : \"active\"},\n",
        "  1023 : {\"name\" : \"boAt Xtend Smartwatch with Alexa Built-in\", \"price\" : 7990, \"discount\" : 56, \"weight\" : 200, \"category\" : \"Smart Watch\", \"quantity\" : 19, \"location\" : \"India\", \"status\" : \"active\"},\n",
        "  1024 : {\"name\" : \"Kids cloth\", \"price\" : 500, \"discount\" : 20, \"weight\" : 300, \"category\" : \"cloth\", \"quantity\" : 13, \"location\" : \"India\", \"status\" : \"active\"},\n",
        "  1025 : {\"name\" : \"Milton Duo Delux 1000 Thermosteel 24 hour cold water bottle\", \"price\" : 1200, \"discount\" : 15, \"weight\" : 500, \"category\" : \"Water Bottle\", \"quantity\" : 13, \"location\" : \"India\", \"status\" : \"active\"},\n",
        "  1026 : {\"name\" : \"Anticirus CD\", \"price\" : 900, \"discount\" : 10, \"weight\" : 20, \"category\" : \"Software\", \"quantity\" : 100, \"location\" : \"India\", \"status\" : \"active\"},\n",
        "  1027 : {\"name\" : \"American Tourister Jamaica Polyester Suitcase\", \"price\" : 10800, \"discount\" : 60, \"weight\" : 4100, \"category\" : \"Traveling bag\", \"quantity\" : 39, \"location\" : \"India\", \"status\" : \"active\"},\n",
        "  1028 : {\"name\" : \"Shoe(Men/Women)\", \"price\" : 2000, \"discount\" : 60, \"weight\" : 500, \"category\" : \"Shoe\", \"quantity\" : 63, \"location\" : \"India\", \"status\" : \"active\"},\n",
        "  1029 : {\"name\" : \"Amazon Basica 80cm (32 inch) HD Android TV\", \"price\" : 27000, \"discount\" : 45, \"weight\" : 3000, \"category\" : \"TV\", \"quantity\" : 83, \"location\" : \"India\", \"status\" : \"active\"},\n",
        "  1030 : {\"name\" : \"OnePlus 80 cm (32 inch) Y series HD Android TV\", \"price\" : 19999, \"discount\" : 5, \"weight\" : 3000, \"category\" : \"TV\", \"quantity\" : 13, \"location\" : \"India\", \"status\" : \"active\"},\n",
        "  1031 : {\"name\" : \"Logitech B170 Wireless Mouse, 2.4 GHz with USB Reciever\", \"price\" : 795, \"discount\" : 20, \"weight\" : 95, \"category\" :\"Electronics\", \"quantity\" : 3, \"location\" : \"India\", \"status\" : \"active\"},\n",
        "  \n",
        "  } \n",
        "js = json.dumps(products)\n",
        "\n",
        "#Write json object into JSON file \"Products.json\" \n",
        "fd.write(js) \n",
        "\n",
        "#Close JSON file \"Products.json\"\n",
        "fd.close()"
      ],
      "execution_count": 1,
      "outputs": []
    },
    {
      "cell_type": "code",
      "metadata": {
        "id": "GCCSibB07hVG"
      },
      "source": [
        "with open(\"Products.json\", encoding = 'utf-8') as fd:\n",
        "  products = json.loads(fd.read())\n",
        "\n",
        "def Product_Details():\n",
        "  prod_num = 1\n",
        "  print(\" Item number\",\"      Item name\")\n",
        "  print(\"--------------\",\" ----------------\")\n",
        "  for product in products:\n",
        "    print(\"  \",prod_num,\"            \",products[product][\"name\"])\n",
        "    prod_num += 1"
      ],
      "execution_count": 2,
      "outputs": []
    },
    {
      "cell_type": "code",
      "metadata": {
        "id": "MJbZT6Ud8w-u"
      },
      "source": [
        "def User_Input():\n",
        "  answer = input(\"what u want to buy: \")\n",
        "  answer = answer.lower()\n",
        "  if answer == 'no':\n",
        "    print(\"Thank you\")\n",
        "  elif answer == 'yes':\n",
        "    prod_num = int(input(\"Select product number associated with product name (ex: 1,2,3,.....) : \"))\n",
        "    Check_Product_Availability(prod_num)"
      ],
      "execution_count": 3,
      "outputs": []
    },
    {
      "cell_type": "code",
      "metadata": {
        "id": "lVCRyD6J9DEl"
      },
      "source": [
        "def Check_Product_Availability(prod_num):\n",
        "  if prod_num <= 10:\n",
        "    prod_num = \"100\" + str(prod_num - 1) \n",
        "  else:\n",
        "    prod_num = \"10\" + str(prod_num - 1)\n",
        "  \n",
        "  status = products[prod_num][\"status\"]\n",
        "\n",
        "  if status == 'deactive':\n",
        "    print(products[prod_num][\"name\"],\"is Not Available\")\n",
        "  else:\n",
        "    num_of_item = int(input(\"Enter number of items to buy (ex: 1,2,3...)                          : \"))\n",
        "    quantity = products[prod_num][\"quantity\"]\n",
        "    if quantity < num_of_item:\n",
        "      print(\"* item is available       *\")\n",
        "      answer = input(\" number of items: \")\n",
        "\n",
        "      if answer.lower() == 'no':\n",
        "        print(\"Thank you\")\n",
        "      else:\n",
        "        Bill_Generator(prod_num, quantity)\n",
        "        update_quantity(prod_num, quantity)\n",
        "    else:\n",
        "      Bill_Generator(prod_num, num_of_item)\n",
        "      update_quantity(prod_num, num_of_item)"
      ],
      "execution_count": 4,
      "outputs": []
    },
    {
      "cell_type": "code",
      "metadata": {
        "id": "FRnTiKpJ-CK9"
      },
      "source": [
        "def update_quantity(prod_no, quantity):\n",
        "  products[prod_no][\"quantity\"] = products[prod_no][\"quantity\"] - quantity\n",
        "\n",
        "\n",
        "  if products[prod_no][\"quantity\"] == 0:\n",
        "    products[prod_no][\"status\"] = 'deactive'\n",
        "\n",
        "  with open(\"Products.json\", mode = 'w', encoding = 'utf-8') as fd:\n",
        "    js = json.dumps(products)\n",
        "    fd.write(js)"
      ],
      "execution_count": 5,
      "outputs": []
    },
    {
      "cell_type": "code",
      "metadata": {
        "id": "L-hqdLA7-ajX"
      },
      "source": [
        "def Bill_Generator(prod_num, quantity):\n",
        "  \n",
        "  discount = products[prod_num][\"price\"] * products[prod_num][\"discount\"] / 100\n",
        "\n",
        "  #Find total price of items based on user intered quantity\n",
        "  final_price = int(quantity * (products[prod_num][\"price\"] - discount))\n",
        " \n",
        " \n",
        "  \n",
        "  print(\"*         Item name        :\",products[prod_num][\"name\"],\"                             *\")\n",
        "  print(\"*         Category         :\",products[prod_num][\"category\"],\"                                                      *\")\n",
        "  print(\"*         No. of item      :\",quantity,\"                                                         *\")\n",
        "  print(\"*         Price            :\",products[prod_num][\"price\"],\"                                                       *\")\n",
        "  print(\"*         Weight of 1 item :\",str(products[prod_num][\"weight\"])+\"gm\",\"                                                     *\")\n",
        "  print(\"*               TOTAL Bill  =\",\"₹\"+str(final_price),\"                                      *\")\n",
        "  \n",
        "  \n",
        "  \n",
        "\n",
        "\n"
      ],
      "execution_count": 10,
      "outputs": []
    },
    {
      "cell_type": "code",
      "metadata": {
        "colab": {
          "base_uri": "https://localhost:8080/",
          "height": 1000
        },
        "id": "B18C_gPIAAeJ",
        "outputId": "701af1c0-c51d-44c4-a9b5-4e35a9da8688"
      },
      "source": [
        "Product_Details()\n",
        "User_Input()"
      ],
      "execution_count": 13,
      "outputs": [
        {
          "output_type": "stream",
          "name": "stdout",
          "text": [
            " Item number       Item name\n",
            "--------------  ----------------\n",
            "   1              CRACKING the CODING INTERVIEW\n",
            "   2              Crack the SERIES GATE\n",
            "   3              Paracitamol\n",
            "   4              Nea N95 5 Layer Reusable & Washable mask\n",
            "   5              Back cover for smartphone\n",
            "   6              Kenstar KKB10C3P-DBH Electric Kettle\n",
            "   7              Oppo Echno M31\n",
            "   8              OnePlus Bullets Wireless Z Bass Edition\n",
            "   9              Lakeme Face Wash\n",
            "   10              Building Materials\n",
            "   11              Mi 1000 mAh Power Bank\n",
            "   12              Mi 3i 2000 mAh Power Bank\n",
            "   13              HP USB 3.0 Utility V232 64 GB Pen Drive\n",
            "   14              Logitech K230 Wireless Laptop Keyboard\n",
            "   15              HP X3500 Wireless Comfort Mouse\n",
            "   16              PHILIPS QT4011 Mulicolor Trimmer\n",
            "   17              acer Aspire Ryzen 5 Hexa Core (8 GB/512 GB SSD/Windows 10/4GB Graphics)\n",
            "   18              SONY SRS-XB13 latest Bluetooth Speaker(Blue, Mono Chanel)\n",
            "   19              SAMSUNG Galaxy M31(6 GB/64 GB)\n",
            "   20              POCO M2 Pro(6 GB/128 GB)\n",
            "   21              Realme Narzo 30 Pro 5 GB(6 GB/64 GB)\n",
            "   22              APPLE iPhone 12 Pro Max\n",
            "   23              APPLE MacBook Pro M1(8 GB/256 GB SSD/Mac OS Big Sur)\n",
            "   24              boAt Xtend Smartwatch with Alexa Built-in\n",
            "   25              Kids cloth\n",
            "   26              Milton Duo Delux 1000 Thermosteel 24 hour cold water bottle\n",
            "   27              Anticirus CD\n",
            "   28              American Tourister Jamaica Polyester Suitcase\n",
            "   29              Shoe(Men/Women)\n",
            "   30              Amazon Basica 80cm (32 inch) HD Android TV\n",
            "   31              OnePlus 80 cm (32 inch) Y series HD Android TV\n",
            "   32              Logitech B170 Wireless Mouse, 2.4 GHz with USB Reciever\n",
            "what u want to buy: yes\n",
            "Select product number associated with product name (ex: 1,2,3,.....) : 2\n",
            "Enter number of items to buy (ex: 1,2,3...)                          : 1\n",
            "*     ================================================================                  *\n",
            "*         Item name        : Crack the SERIES GATE                              *\n",
            "*         Category         : Book                                                       *\n",
            "*         No. of item      : 1                                                          *\n",
            "*         Price            : 700                                                        *\n",
            "*         Discount         : 10%                                                         *\n",
            "*         Weight of 1 item : 500gm                                                      *\n",
            "*     ================================================================                  *\n",
            "*               TOTAL PAYABLE(in rupees)  = ₹630                                       *\n"
          ]
        },
        {
          "output_type": "error",
          "ename": "NameError",
          "evalue": "ignored",
          "traceback": [
            "\u001b[0;31m---------------------------------------------------------------------------\u001b[0m",
            "\u001b[0;31mNameError\u001b[0m                                 Traceback (most recent call last)",
            "\u001b[0;32m<ipython-input-13-e54f3e0d3d33>\u001b[0m in \u001b[0;36m<module>\u001b[0;34m()\u001b[0m\n\u001b[1;32m      1\u001b[0m \u001b[0mProduct_Details\u001b[0m\u001b[0;34m(\u001b[0m\u001b[0;34m)\u001b[0m\u001b[0;34m\u001b[0m\u001b[0;34m\u001b[0m\u001b[0m\n\u001b[0;32m----> 2\u001b[0;31m \u001b[0mUser_Input\u001b[0m\u001b[0;34m(\u001b[0m\u001b[0;34m)\u001b[0m\u001b[0;34m\u001b[0m\u001b[0;34m\u001b[0m\u001b[0m\n\u001b[0m",
            "\u001b[0;32m<ipython-input-3-2d81da2cf706>\u001b[0m in \u001b[0;36mUser_Input\u001b[0;34m()\u001b[0m\n\u001b[1;32m      6\u001b[0m   \u001b[0;32melif\u001b[0m \u001b[0manswer\u001b[0m \u001b[0;34m==\u001b[0m \u001b[0;34m'yes'\u001b[0m\u001b[0;34m:\u001b[0m\u001b[0;34m\u001b[0m\u001b[0;34m\u001b[0m\u001b[0m\n\u001b[1;32m      7\u001b[0m     \u001b[0mprod_num\u001b[0m \u001b[0;34m=\u001b[0m \u001b[0mint\u001b[0m\u001b[0;34m(\u001b[0m\u001b[0minput\u001b[0m\u001b[0;34m(\u001b[0m\u001b[0;34m\"Select product number associated with product name (ex: 1,2,3,.....) : \"\u001b[0m\u001b[0;34m)\u001b[0m\u001b[0;34m)\u001b[0m\u001b[0;34m\u001b[0m\u001b[0;34m\u001b[0m\u001b[0m\n\u001b[0;32m----> 8\u001b[0;31m     \u001b[0mCheck_Product_Availability\u001b[0m\u001b[0;34m(\u001b[0m\u001b[0mprod_num\u001b[0m\u001b[0;34m)\u001b[0m\u001b[0;34m\u001b[0m\u001b[0;34m\u001b[0m\u001b[0m\n\u001b[0m",
            "\u001b[0;32m<ipython-input-4-122192131b73>\u001b[0m in \u001b[0;36mCheck_Product_Availability\u001b[0;34m(prod_num)\u001b[0m\n\u001b[1;32m     22\u001b[0m         \u001b[0mupdate_quantity\u001b[0m\u001b[0;34m(\u001b[0m\u001b[0mprod_num\u001b[0m\u001b[0;34m,\u001b[0m \u001b[0mquantity\u001b[0m\u001b[0;34m)\u001b[0m\u001b[0;34m\u001b[0m\u001b[0;34m\u001b[0m\u001b[0m\n\u001b[1;32m     23\u001b[0m     \u001b[0;32melse\u001b[0m\u001b[0;34m:\u001b[0m\u001b[0;34m\u001b[0m\u001b[0;34m\u001b[0m\u001b[0m\n\u001b[0;32m---> 24\u001b[0;31m       \u001b[0mBill_Generator\u001b[0m\u001b[0;34m(\u001b[0m\u001b[0mprod_num\u001b[0m\u001b[0;34m,\u001b[0m \u001b[0mnum_of_item\u001b[0m\u001b[0;34m)\u001b[0m\u001b[0;34m\u001b[0m\u001b[0;34m\u001b[0m\u001b[0m\n\u001b[0m\u001b[1;32m     25\u001b[0m       \u001b[0mupdate_quantity\u001b[0m\u001b[0;34m(\u001b[0m\u001b[0mprod_num\u001b[0m\u001b[0;34m,\u001b[0m \u001b[0mnum_of_item\u001b[0m\u001b[0;34m)\u001b[0m\u001b[0;34m\u001b[0m\u001b[0;34m\u001b[0m\u001b[0m\n",
            "\u001b[0;32m<ipython-input-10-f41daffc4f84>\u001b[0m in \u001b[0;36mBill_Generator\u001b[0;34m(prod_num, quantity)\u001b[0m\n\u001b[1;32m     16\u001b[0m   \u001b[0mprint\u001b[0m\u001b[0;34m(\u001b[0m\u001b[0;34m\"*     ================================================================                  *\"\u001b[0m\u001b[0;34m)\u001b[0m\u001b[0;34m\u001b[0m\u001b[0;34m\u001b[0m\u001b[0m\n\u001b[1;32m     17\u001b[0m   \u001b[0mprint\u001b[0m\u001b[0;34m(\u001b[0m\u001b[0;34m\"*               TOTAL PAYABLE(in rupees)  =\"\u001b[0m\u001b[0;34m,\u001b[0m\u001b[0;34m\"₹\"\u001b[0m\u001b[0;34m+\u001b[0m\u001b[0mstr\u001b[0m\u001b[0;34m(\u001b[0m\u001b[0mfinal_price\u001b[0m\u001b[0;34m)\u001b[0m\u001b[0;34m,\u001b[0m\u001b[0;34m\"                                      *\"\u001b[0m\u001b[0;34m)\u001b[0m\u001b[0;34m\u001b[0m\u001b[0;34m\u001b[0m\u001b[0m\n\u001b[0;32m---> 18\u001b[0;31m   \u001b[0mprint\u001b[0m\u001b[0;34m(\u001b[0m\u001b[0;34m\"*               You save(in rupees)       =\"\u001b[0m\u001b[0;34m,\u001b[0m\u001b[0;34m\"₹\"\u001b[0m\u001b[0;34m+\u001b[0m\u001b[0mstr\u001b[0m\u001b[0;34m(\u001b[0m\u001b[0mtotal_discount\u001b[0m\u001b[0;34m)\u001b[0m\u001b[0;34m,\u001b[0m\u001b[0;34m\"                                       *\"\u001b[0m\u001b[0;34m)\u001b[0m\u001b[0;34m\u001b[0m\u001b[0;34m\u001b[0m\u001b[0m\n\u001b[0m\u001b[1;32m     19\u001b[0m \u001b[0;34m\u001b[0m\u001b[0m\n\u001b[1;32m     20\u001b[0m \u001b[0;34m\u001b[0m\u001b[0m\n",
            "\u001b[0;31mNameError\u001b[0m: name 'total_discount' is not defined"
          ]
        }
      ]
    }
  ]
}